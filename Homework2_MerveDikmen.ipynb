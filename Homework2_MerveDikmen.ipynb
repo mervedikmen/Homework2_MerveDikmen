{
 "cells": [
  {
   "cell_type": "code",
   "execution_count": 10,
   "metadata": {},
   "outputs": [],
   "source": [
    "import nsfg"
   ]
  },
  {
   "cell_type": "code",
   "execution_count": 11,
   "metadata": {},
   "outputs": [],
   "source": [
    "resp=nsfg.ReadFemResp()"
   ]
  },
  {
   "cell_type": "code",
   "execution_count": 38,
   "metadata": {},
   "outputs": [
    {
     "data": {
      "text/plain": [
       "(0        6\n",
       " 1       10\n",
       " 2        9\n",
       " 3        5\n",
       " 4        6\n",
       " 5        5\n",
       " 6        6\n",
       " 7        9\n",
       " 8        9\n",
       " 9       10\n",
       " 10       9\n",
       " 11       9\n",
       " 12       9\n",
       " 13       5\n",
       " 14       9\n",
       " 15       9\n",
       " 16       6\n",
       " 17       9\n",
       " 18       6\n",
       " 19       6\n",
       " 20      10\n",
       " 21       6\n",
       " 23      10\n",
       " 24       9\n",
       " 25       9\n",
       " 26      10\n",
       " 27      10\n",
       " 28       9\n",
       " 29       9\n",
       " 30      10\n",
       "         ..\n",
       " 7600    10\n",
       " 7602    10\n",
       " 7608    10\n",
       " 7609     5\n",
       " 7610     9\n",
       " 7611     5\n",
       " 7612     9\n",
       " 7613     7\n",
       " 7615     5\n",
       " 7616    10\n",
       " 7620     9\n",
       " 7621     9\n",
       " 7622     7\n",
       " 7623     9\n",
       " 7624    10\n",
       " 7625    10\n",
       " 7626    10\n",
       " 7627    10\n",
       " 7628     7\n",
       " 7630     9\n",
       " 7631    10\n",
       " 7632     9\n",
       " 7633    10\n",
       " 7634     9\n",
       " 7635     9\n",
       " 7636     7\n",
       " 7637     9\n",
       " 7639     7\n",
       " 7641     6\n",
       " 7642    10\n",
       " Name: hieduc, Length: 5498, dtype: int64, 22      12\n",
       " 32      12\n",
       " 34      11\n",
       " 35      12\n",
       " 43      12\n",
       " 48      12\n",
       " 53      12\n",
       " 54      12\n",
       " 88      12\n",
       " 91      12\n",
       " 94      11\n",
       " 96      13\n",
       " 98      12\n",
       " 101     12\n",
       " 103     12\n",
       " 104     12\n",
       " 106     12\n",
       " 107     12\n",
       " 108     14\n",
       " 113     12\n",
       " 115     12\n",
       " 119     11\n",
       " 138     11\n",
       " 140     11\n",
       " 152     12\n",
       " 157     11\n",
       " 160     11\n",
       " 164     15\n",
       " 166     12\n",
       " 168     11\n",
       "         ..\n",
       " 7563    12\n",
       " 7565    15\n",
       " 7566    12\n",
       " 7572    13\n",
       " 7573    11\n",
       " 7576    15\n",
       " 7578    13\n",
       " 7581    14\n",
       " 7583    12\n",
       " 7584    14\n",
       " 7590    12\n",
       " 7591    13\n",
       " 7592    13\n",
       " 7593    13\n",
       " 7594    12\n",
       " 7596    11\n",
       " 7598    11\n",
       " 7601    12\n",
       " 7603    11\n",
       " 7604    13\n",
       " 7605    11\n",
       " 7606    13\n",
       " 7607    11\n",
       " 7614    12\n",
       " 7617    12\n",
       " 7618    13\n",
       " 7619    13\n",
       " 7629    12\n",
       " 7638    13\n",
       " 7640    11\n",
       " Name: hieduc, Length: 2145, dtype: int64)"
      ]
     },
     "execution_count": 38,
     "metadata": {},
     "output_type": "execute_result"
    }
   ],
   "source": [
    "#Question 1\n",
    "education_degree = resp['hieduc']\n",
    "school = education_degree[education_degree < 11]\n",
    "university = education_degree[education_degree >= 11]\n",
    "school , university"
   ]
  },
  {
   "cell_type": "code",
   "execution_count": 37,
   "metadata": {},
   "outputs": [
    {
     "name": "stdout",
     "output_type": "stream",
     "text": [
      "The values for age of moms are maximum 96; minimum 1; standard deviation 10.812288996229537; average 3.982075101399974and the mode 0    3\n",
      "dtype: int64.\n"
     ]
    }
   ],
   "source": [
    "#Question 1 (cont.)\n",
    "agemomb1 = resp['agemomb1']\n",
    "max = agemomb1.max()\n",
    "min = agemomb1.min()\n",
    "std = agemomb1.std()\n",
    "mean = agemomb1.mean()\n",
    "median = agemomb1.median()\n",
    "mode = agemomb1.mode()\n",
    "mean , max , min , std , median , mode\n",
    "print ('The values for age of moms are maximum ' + str(max) + '; minimum '  + str(min) + '; standard deviation ' + str(std) + '; average ' + str(mean) + 'and the mode ' + str(mode) + '.')"
   ]
  },
  {
   "cell_type": "code",
   "execution_count": 36,
   "metadata": {},
   "outputs": [
    {
     "name": "stderr",
     "output_type": "stream",
     "text": [
      "No handles with labels found to put in legend.\n"
     ]
    },
    {
     "data": {
      "image/png": "[encoded data removed]",
      "text/plain": [
       "<Figure size 864x432 with 1 Axes>"
      ]
     },
     "metadata": {},
     "output_type": "display_data"
    },
    {
     "data": {
      "text/plain": [
       "<Figure size 576x432 with 0 Axes>"
      ]
     },
     "metadata": {},
     "output_type": "display_data"
    }
   ],
   "source": [
    "#Question 2 PMFs\n",
    "\n",
    "import thinkstats2\n",
    "import thinkplot\n",
    "width = 0.5\n",
    "pmf1 = thinkstats2.Pmf(school)\n",
    "pmf2 = thinkstats2.Pmf(university)\n",
    "thinkplot.PrePlot(2, cols=2)\n",
    "thinkplot.Pmfs([pmf1, pmf2])\n",
    "thinkplot.Show(xlabel='education degree', ylabel='probability' , width=width)\n"
   ]
  },
  {
   "cell_type": "code",
   "execution_count": 35,
   "metadata": {},
   "outputs": [
    {
     "name": "stderr",
     "output_type": "stream",
     "text": [
      "No handles with labels found to put in legend.\n"
     ]
    },
    {
     "data": {
      "image/png": "[encoded data removed]",
      "text/plain": [
       "<Figure size 864x432 with 1 Axes>"
      ]
     },
     "metadata": {},
     "output_type": "display_data"
    },
    {
     "data": {
      "text/plain": [
       "<Figure size 576x432 with 0 Axes>"
      ]
     },
     "metadata": {},
     "output_type": "display_data"
    }
   ],
   "source": [
    "#Question 2 CDFs\n",
    "import thinkstats2\n",
    "import thinkplot\n",
    "width = 0.5\n",
    "cdf1 = thinkstats2.Cdf(school)\n",
    "cdf2 = thinkstats2.Cdf(university)\n",
    "thinkplot.PrePlot(2, cols=2)\n",
    "thinkplot.Cdfs([cdf1, cdf2])\n",
    "thinkplot.Show(xlabel='education degree', ylabel='probability' , width=width)"
   ]
  },
  {
   "cell_type": "code",
   "execution_count": 34,
   "metadata": {},
   "outputs": [
    {
     "data": {
      "image/png": "[encoded data removed]",
      "text/plain": [
       "<Figure size 432x288 with 1 Axes>"
      ]
     },
     "metadata": {},
     "output_type": "display_data"
    }
   ],
   "source": [
    "#Question 3\n",
    "\n",
    "import thinkstats2\n",
    "import thinkplot\n",
    "\n",
    "agemomb1 = resp['agemomb1']\n",
    "smoms = resp[education_degree < 11 ]['agemomb1']\n",
    "umoms = resp[education_degree > 10 ]['agemomb1']\n",
    "pmf_smoms = thinkstats2.Pmf(smoms)\n",
    "pmf_umoms = thinkstats2.Pmf(umoms)\n",
    "\n",
    "ageofmoms = range(1, 10)\n",
    "x = []\n",
    "\n",
    "for ageofmom in ageofmoms:\n",
    "    p1s = pmf_smoms.Prob(ageofmom)\n",
    "    p2s = pmf_umoms.Prob(ageofmom)\n",
    "    diff = 100 * (p1s - p2s)\n",
    "    x.append(diff)\n",
    "thinkplot.Bar(ageofmoms, x)"
   ]
  },
  {
   "cell_type": "code",
   "execution_count": 33,
   "metadata": {},
   "outputs": [
    {
     "name": "stderr",
     "output_type": "stream",
     "text": [
      "No handles with labels found to put in legend.\n"
     ]
    },
    {
     "data": {
      "image/png": "[encoded data removed]",
      "text/plain": [
       "<Figure size 864x432 with 1 Axes>"
      ]
     },
     "metadata": {},
     "output_type": "display_data"
    },
    {
     "name": "stdout",
     "output_type": "stream",
     "text": [
      "0.0\n",
      "0.08391608391608392\n"
     ]
    },
    {
     "data": {
      "text/plain": [
       "<Figure size 576x432 with 0 Axes>"
      ]
     },
     "metadata": {},
     "output_type": "display_data"
    }
   ],
   "source": [
    "#Question 4\n",
    "agemomb1 = resp['agemomb1']\n",
    "school_moms = resp[education_degree < 11 ]['agemomb1']\n",
    "university_moms = resp[education_degree > 10 ]['agemomb1']\n",
    "cdf_s = thinkstats2.Cdf(school_moms)\n",
    "cdf_u= thinkstats2.Cdf(university_moms)\n",
    "thinkplot.PrePlot(2, cols=2)\n",
    "thinkplot.Cdfs([cdf_s, cdf_u])\n",
    "thinkplot.Show(xlabel='age of moms', ylabel='probability' , width=width)\n",
    "\n",
    "ageofmoms=range(1, 100)\n",
    "a=[]\n",
    "b=[]\n",
    "for ageofmom in ageofmoms:\n",
    "    younger_moms=cdf_s.Prob(ageofmom < 18)\n",
    "    older_moms=cdf_u.Prob(ageofmom >= 18)\n",
    "    a.append(younger_moms)\n",
    "    b.append(older_moms)\n",
    "print(younger_moms)\n",
    "print(older_moms)"
   ]
  }
 ],
 "metadata": {
  "kernelspec": {
   "display_name": "Python 3",
   "language": "python",
   "name": "python3"
  },
  "language_info": {
   "codemirror_mode": {
    "name": "ipython",
    "version": 3
   },
   "file_extension": ".py",
   "mimetype": "text/x-python",
   "name": "python",
   "nbconvert_exporter": "python",
   "pygments_lexer": "ipython3",
   "version": "3.6.3"
  }
 },
 "nbformat": 4,
 "nbformat_minor": 2
}
